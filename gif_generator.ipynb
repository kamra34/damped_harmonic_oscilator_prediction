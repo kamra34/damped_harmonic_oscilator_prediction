{
 "cells": [
  {
   "cell_type": "code",
   "execution_count": 77,
   "metadata": {},
   "outputs": [],
   "source": [
    "from PIL import Image\n",
    "import matplotlib.pyplot as plt\n",
    "import os"
   ]
  },
  {
   "cell_type": "code",
   "execution_count": 78,
   "metadata": {},
   "outputs": [],
   "source": [
    "def save_gif_PIL(outfile, files, fps=5, loop=0):\n",
    "    \"Helper function for saving GIFs\"\n",
    "    imgs = [Image.open(file) for file in files]\n",
    "    imgs[0].save(fp=outfile, format='GIF', append_images=imgs[1:], save_all=True, duration=int(1000/fps), loop=loop)\n",
    "\n",
    "def plot_osc(x,y, x_data, y_data):\n",
    "    \"Pretty plot oscillaator movement\"\n",
    "    plt.figure(figsize=(8,4))\n",
    "    plt.plot(x,y, color=\"grey\", linewidth=2, alpha=0.8, label=\"Exact solution\")\n",
    "    plt.scatter(x_data, y_data, s=60, color=\"tab:orange\", alpha=0.8)\n",
    "    plt.xlim(-0.05, 1.05)\n",
    "    plt.ylim(-1.1, 1.1)\n",
    "    plt.axis(\"off\")\n",
    "    plt.title(\"Harmonic Oscilator\")"
   ]
  },
  {
   "cell_type": "code",
   "execution_count": 79,
   "metadata": {},
   "outputs": [],
   "source": [
    "def gen_osc_gif(x, y):   \n",
    "    files = []\n",
    "    plot_dir = 'osc_plots'\n",
    "    if not os.path.exists('osc_plots'):\n",
    "        os.makedirs('osc_plots')\n",
    "\n",
    "    plt.ioff()  # turn off interactive mode\n",
    "    for i in range(500):   \n",
    "    \n",
    "        # plot the result as training progresses\n",
    "        if (i+1) % 10 == 0: \n",
    "        \n",
    "            plot_osc(x,y,x[i],y[i])\n",
    "        \n",
    "            file = \"osc_plots/osc_%.8i.png\"%(i+1)\n",
    "            plt.savefig(file, bbox_inches='tight', pad_inches=0.1, dpi=100, facecolor=\"white\")\n",
    "            files.append(file)\n",
    "    \n",
    "            if (i+1) % 500 == 0: pass\n",
    "            else: plt.close(\"all\")\n",
    "            \n",
    "    gif_path = os.path.join(plot_dir, \"osc.gif\")\n",
    "    save_gif_PIL(\"osc.gif\", files, fps=15, loop=0)\n",
    "\n",
    "    plt.ion()  # if you want, you can turn interactive mode back on here\n"
   ]
  }
 ],
 "metadata": {
  "kernelspec": {
   "display_name": ".venv",
   "language": "python",
   "name": "python3"
  },
  "language_info": {
   "codemirror_mode": {
    "name": "ipython",
    "version": 3
   },
   "file_extension": ".py",
   "mimetype": "text/x-python",
   "name": "python",
   "nbconvert_exporter": "python",
   "pygments_lexer": "ipython3",
   "version": "3.11.0"
  },
  "orig_nbformat": 4,
  "vscode": {
   "interpreter": {
    "hash": "b72aab1e91657ace1ae491df9f1b6aa2f2821d9ff541a6bf7947041f1446f9db"
   }
  }
 },
 "nbformat": 4,
 "nbformat_minor": 2
}
